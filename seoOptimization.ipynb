{
 "cells": [
  {
   "cell_type": "markdown",
   "id": "c7b44972",
   "metadata": {},
   "source": [
    "## SEO Ranker using ITC\n",
    "#### By Vedank Goyal 2K18/MC/122"
   ]
  },
  {
   "cell_type": "markdown",
   "id": "b6864922",
   "metadata": {},
   "source": [
    "### Import libraries"
   ]
  },
  {
   "cell_type": "code",
   "execution_count": 1,
   "id": "0bbb9341",
   "metadata": {},
   "outputs": [],
   "source": [
    "# For extracting data\n",
    "import requests\n",
    "from bs4 import BeautifulSoup\n",
    "\n",
    "# For analysing data\n",
    "from nltk.tokenize import RegexpTokenizer\n",
    "from nltk.probability import FreqDist\n",
    "tokenizer = RegexpTokenizer(r'\\w+')\n",
    "\n",
    "# For calculation\n",
    "import math"
   ]
  },
  {
   "cell_type": "markdown",
   "id": "280300f8",
   "metadata": {},
   "source": [
    "### Add sites to rank"
   ]
  },
  {
   "cell_type": "code",
   "execution_count": 2,
   "id": "55f6bb35",
   "metadata": {},
   "outputs": [],
   "source": [
    "sites = []\n",
    "sites.append(\"https://www.healthline.com/nutrition/10-health-benefits-of-apples#:~:text=Apples%20are%20an%20incredibly%20nutritious,improve%20gut%20and%20brain%20health.\")\n",
    "sites.append(\"https://www.eatingwell.com/article/17769/5-health-benefits-of-an-apple/\")\n",
    "sites.append(\"https://www.everydayhealth.com/diet-nutrition/impressive-health-benefits-of-apples/\")\n",
    "sites.append(\"https://www.medicalnewstoday.com/articles/267290\")\n",
    "sites.append(\"https://www.insider.com/benefits-of-apples\")\n",
    "sites.append(\"https://www.bbcgoodfood.com/howto/guide/health-benefits-apples\")\n",
    "sites.append(\"https://www.news-medical.net/health/What-Are-the-Health-Benefits-of-Apples.aspx\")\n",
    "sites.append(\"https://minnetonkaorchards.com/health-benefits-of-apples/\")"
   ]
  },
  {
   "cell_type": "markdown",
   "id": "64fc7109",
   "metadata": {},
   "source": [
    "### Define data extracting functions"
   ]
  },
  {
   "cell_type": "code",
   "execution_count": 3,
   "id": "bd25c139",
   "metadata": {},
   "outputs": [],
   "source": [
    "def get_data(site):\n",
    "    req = requests.get(site)\n",
    "    soup = BeautifulSoup(req.content,\"html.parser\")\n",
    "    return soup.get_text()"
   ]
  },
  {
   "cell_type": "code",
   "execution_count": 4,
   "id": "aa0da573",
   "metadata": {},
   "outputs": [],
   "source": [
    "def get_word_counts(site_text):\n",
    "    tokens = tokenizer.tokenize(site_text)\n",
    "    freq = FreqDist(tokens)\n",
    "    return tokens,freq"
   ]
  },
  {
   "cell_type": "markdown",
   "id": "7e47f989",
   "metadata": {},
   "source": [
    "### Define data analysing functions"
   ]
  },
  {
   "cell_type": "code",
   "execution_count": 5,
   "id": "a210ad1f",
   "metadata": {},
   "outputs": [],
   "source": [
    "def update_key(key,required_frequencies,frequency):\n",
    "    if key in required_frequencies.keys():\n",
    "        required_frequencies[key] = required_frequencies[key] + frequency\n",
    "    else:\n",
    "        required_frequencies[key] = frequency\n",
    "    return required_frequencies"
   ]
  },
  {
   "cell_type": "code",
   "execution_count": 6,
   "id": "f56c713c",
   "metadata": {},
   "outputs": [],
   "source": [
    "def get_required_frequencies(required_words,word_frequencies):\n",
    "    required_frequencies = {}\n",
    "    total_count = 0\n",
    "    for key in word_frequencies.keys():\n",
    "        word = key.lower()\n",
    "        if word in required_words:\n",
    "            required_frequencies = update_key(word,required_frequencies,word_frequencies[key])\n",
    "            total_count = total_count + word_frequencies[key]\n",
    "    for word in required_frequencies:\n",
    "        if word not in required_frequencies.keys():\n",
    "            required_frequencies[word] = 0\n",
    "    return required_frequencies,total_count"
   ]
  },
  {
   "cell_type": "code",
   "execution_count": 7,
   "id": "3fb2141e",
   "metadata": {},
   "outputs": [],
   "source": [
    "def get_probabilities(required_frequencies):\n",
    "    probabilites = {}\n",
    "    frequencies = required_frequencies[0]\n",
    "    count = required_frequencies[1]\n",
    "    for key in frequencies.keys():\n",
    "        probabilites[key] = frequencies[key]/count\n",
    "    return probabilites"
   ]
  },
  {
   "cell_type": "markdown",
   "id": "2293852d",
   "metadata": {},
   "source": [
    "### Define function to calculate average entropy"
   ]
  },
  {
   "cell_type": "code",
   "execution_count": 8,
   "id": "dc15b98a",
   "metadata": {},
   "outputs": [],
   "source": [
    "def calculate_average_entropy(probabilites):\n",
    "    average_entropy = 0\n",
    "    for key in probabilites.keys():\n",
    "        p = probabilites[key]\n",
    "        if p != 0:\n",
    "            average_entropy = average_entropy - p*math.log(p,2.0)\n",
    "    return average_entropy"
   ]
  },
  {
   "cell_type": "markdown",
   "id": "29b8f543",
   "metadata": {},
   "source": [
    "### Create list of expected words"
   ]
  },
  {
   "cell_type": "code",
   "execution_count": 9,
   "id": "1e28e114",
   "metadata": {},
   "outputs": [
    {
     "data": {
      "text/plain": [
       "['apple',\n",
       " 'vitamin',\n",
       " 'health',\n",
       " 'apples',\n",
       " 'gut',\n",
       " 'bacteria',\n",
       " 'bowel',\n",
       " 'bones',\n",
       " 'fiber',\n",
       " 'blood',\n",
       " 'cholesterol',\n",
       " 'diabetes',\n",
       " 'immune',\n",
       " 'cancer',\n",
       " 'heart',\n",
       " 'bone']"
      ]
     },
     "execution_count": 9,
     "metadata": {},
     "output_type": "execute_result"
    }
   ],
   "source": [
    "expected_words = [\"apple\",\"vitamin\",\"health\",\"apples\",\"gut\",\"bacteria\",\"bowel\",\"bones\",\"fiber\",\"blood\",\"cholesterol\",\"diabetes\",\"immune\",\"cancer\",\"heart\",\"bone\"]\n",
    "expected_words"
   ]
  },
  {
   "cell_type": "markdown",
   "id": "37ce0e81",
   "metadata": {},
   "source": [
    "### Get Entropies"
   ]
  },
  {
   "cell_type": "code",
   "execution_count": 12,
   "id": "1d3b5501",
   "metadata": {},
   "outputs": [],
   "source": [
    "site_entropies = []\n",
    "for site in sites:\n",
    "    words_data = get_word_counts(get_data(site))\n",
    "    filter_words = dict([(m, n) for m, n in words_data[1].items() if len(m) >= 1])\n",
    "    required_frequencies = get_required_frequencies(expected_words,filter_words)\n",
    "    probabilites = get_probabilities(required_frequencies)\n",
    "    average_entropy = calculate_average_entropy(probabilites)\n",
    "    site_entropies.append(average_entropy)"
   ]
  },
  {
   "cell_type": "code",
   "execution_count": 13,
   "id": "8ed9f3f3",
   "metadata": {},
   "outputs": [
    {
     "data": {
      "text/plain": [
       "[3.2379856531716693,\n",
       " 3.051202097711677,\n",
       " 3.154489619331466,\n",
       " 3.1078686169163063,\n",
       " 3.3364908890460483,\n",
       " 2.5683215021992103,\n",
       " 3.036339074111859,\n",
       " 2.891773912162458]"
      ]
     },
     "execution_count": 13,
     "metadata": {},
     "output_type": "execute_result"
    }
   ],
   "source": [
    "site_entropies"
   ]
  },
  {
   "cell_type": "code",
   "execution_count": null,
   "id": "9f1cce61",
   "metadata": {},
   "outputs": [],
   "source": []
  }
 ],
 "metadata": {
  "kernelspec": {
   "display_name": "Python 3 (ipykernel)",
   "language": "python",
   "name": "python3"
  },
  "language_info": {
   "codemirror_mode": {
    "name": "ipython",
    "version": 3
   },
   "file_extension": ".py",
   "mimetype": "text/x-python",
   "name": "python",
   "nbconvert_exporter": "python",
   "pygments_lexer": "ipython3",
   "version": "3.9.10"
  }
 },
 "nbformat": 4,
 "nbformat_minor": 5
}
